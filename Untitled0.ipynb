{
  "nbformat": 4,
  "nbformat_minor": 0,
  "metadata": {
    "colab": {
      "provenance": [],
      "include_colab_link": true
    },
    "kernelspec": {
      "name": "python3",
      "display_name": "Python 3"
    },
    "language_info": {
      "name": "python"
    }
  },
  "cells": [
    {
      "cell_type": "markdown",
      "metadata": {
        "id": "view-in-github",
        "colab_type": "text"
      },
      "source": [
        "<a href=\"https://colab.research.google.com/github/parkmicheal1114/ColabHub/blob/master/Untitled0.ipynb\" target=\"_parent\"><img src=\"https://colab.research.google.com/assets/colab-badge.svg\" alt=\"Open In Colab\"/></a>"
      ]
    },
    {
      "cell_type": "code",
      "execution_count": null,
      "metadata": {
        "id": "rOizNxrpNfl-"
      },
      "outputs": [],
      "source": [
        "#안녕하세요 잘 보이시나요\n",
        "'''\n",
        "[파이썬] 퀘스트: 회문인지 아닌지 확인하는 프로그램\n",
        "\n",
        "난이도: ★☆☆☆☆\n",
        "\n",
        "장르: 자료형, 제어문, 함수\n",
        "\n",
        "---\n",
        "* 회문이란? : 앞에서부터 읽어도 뒤에서부터 읽어도 같은 단어, 구, 문장, 숫자, 혹은 문단\n",
        "\n",
        "입력값으로 \"우성우\"를 넣었을 때 출력값은 아래와 같이 나와야한다.\n",
        "다음 조건을 확인하는 회문 함수를 만들어보자!\n",
        "\n",
        "조건 :\n",
        "단어를 입력받을 수 있게 한다.\n",
        "입력된 단어를 뒤집어서 출력할 수 있게 한다.\n",
        "입력된 단어가 회문이 맞는지 확인하여 출력할 수 있게 한다.\n",
        "자료형, 제어문, 함수를 활용한다.\n",
        "\n",
        "---\n",
        "\n",
        "입력값 : 우성우\n",
        "\n",
        "출력값 : \n",
        "뒤집힌 단어는: 우성우\n",
        "입력된 단어는 회문입니다.\n",
        "'''"
      ]
    },
    {
      "cell_type": "code",
      "source": [
        "word=input()\n",
        "n=len(word)\n",
        "for i in word::\n"
      ],
      "metadata": {
        "id": "W_Rl4jLqPhd1"
      },
      "execution_count": null,
      "outputs": []
    },
    {
      "cell_type": "code",
      "source": [
        "word = input(\"?:\")\n",
        "backword = word[::-1]\n",
        "\n",
        "print(f\"출력값 : {word}\")\n",
        "print(f\"뒤집힌 단어는 : {backword}\")\n",
        "if word == backword :\n",
        "  print(\"입력된 단어는 회문입니다.\")\n",
        "else :\n",
        "  print(\"입력된 단어는 회문이 아닙니다.\")"
      ],
      "metadata": {
        "id": "9rtpOcUFSyF2",
        "colab": {
          "base_uri": "https://localhost:8080/"
        },
        "outputId": "7a4ad84f-00e3-4ef2-af85-c4ec4124d683"
      },
      "execution_count": null,
      "outputs": [
        {
          "output_type": "stream",
          "name": "stdout",
          "text": [
            "?:wewewewew\n",
            "출력값 : wewewewew\n",
            "뒤집힌 단어는 : wewewewew\n",
            "입력된 단어는 회문입니다.\n"
          ]
        }
      ]
    },
    {
      "cell_type": "markdown",
      "source": [
        "# Code Peer Review Templete\n",
        "---\n",
        "- 코더 : 김영원\n",
        "- 리뷰어 : 박기용\n",
        "\n",
        "\n",
        "# PRT(PeerReviewTemplate)\n",
        "---\n",
        "각 항목을 스스로 확인하고 체크하고 확인하여 작성한 코드에 적용하세요.\n",
        "- [v] 1.코드가 정상적으로 동작하나요?\n",
        "- [v] 2.문제를 제대로 이해했나요?\n",
        "- [v] 3.함수가 작동하는 방식을 잘 설명했나요?\n",
        "- [ ] 4.발생 가능한 에러를 찾아서 디버깅을 했나요?\n",
        "- [ ] 5.코드를 더 개선시켰나요?\n",
        "\n",
        "# 예시\n",
        "1. 코드의 작동 방식을 주석으로 기록합니다.\n",
        "2. 코드의 작동 방식에 대한 개선 방법을 주석으로 기록합니다.\n",
        "3. 참고한 링크 및 ChatGPT 프롬프트 명령어가 있다면 주석으로 남겨주세요.\n",
        "---\n",
        "```python\n",
        "\n",
        "# 단어 입력\n",
        "word = input(\"?:\")\n",
        "# 입력된 단어를 역으로 인덱싱 해서 정렬\n",
        "backword = word[::-1]\n",
        "\n",
        "# 원단어와 역단어를 출력\n",
        "print(f\"출력값 : {word}\")\n",
        "print(f\"뒤집힌 단어는 : {backword}\")\n",
        "\n",
        "# 비교후 회문 여부 판별\n",
        "if word == backword :\n",
        "  print(\"입력된 단어는 회문입니다.\")\n",
        "else :\n",
        "  print(\"입력된 단어는 회문이 아닙니다.\")\n",
        "\n",
        "# 참고 링크 및 코드 개선 여부\n",
        "---\n",
        "```python\n",
        "#"
      ],
      "metadata": {
        "id": "uxClmvu-qbVz"
      }
    },
    {
      "cell_type": "code",
      "source": [],
      "metadata": {
        "id": "clRTVZ6FqZ10"
      },
      "execution_count": null,
      "outputs": []
    }
  ]
}